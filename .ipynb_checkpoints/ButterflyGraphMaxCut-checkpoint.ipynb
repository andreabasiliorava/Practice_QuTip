{
 "cells": [
  {
   "cell_type": "code",
   "execution_count": 2,
   "metadata": {},
   "outputs": [],
   "source": [
    "from qutip import *\n",
    "import numpy as np\n",
    "import matplotlib.pyplot as plt"
   ]
  },
  {
   "cell_type": "code",
   "execution_count": 3,
   "metadata": {},
   "outputs": [],
   "source": [
    "# define up and down states (Z-eigenvectors)\n",
    "z1 = basis(2,0)\n",
    "z2 = basis(2,1)\n",
    "\n",
    "# define plus and minus states (X-eigenvectors)\n",
    "x1 = (basis(2,0) + basis(2,1)).unit()\n",
    "x2 = (basis(2,0) - basis(2,1)).unit()\n",
    "\n",
    "# rename Pauli matricies and Identity\n",
    "I = qeye(2)\n",
    "X = sigmax()\n",
    "Y = sigmay()\n",
    "Z = sigmaz()  "
   ]
  },
  {
   "cell_type": "markdown",
   "metadata": {},
   "source": [
    "# Apply QAOA for MaxCut problem :\n",
    "#### (here we apply it to a butterfly graph (G(V,E), V={0,1,2,3,4}, E = {<01>,<02>,<12>,<23>,<24>,<34>}), then we try to generalize it)"
   ]
  },
  {
   "cell_type": "markdown",
   "metadata": {},
   "source": [
    "###  1) (here there will be the part where the specific graph is defined)"
   ]
  },
  {
   "cell_type": "code",
   "execution_count": null,
   "metadata": {},
   "outputs": [],
   "source": []
  },
  {
   "cell_type": "markdown",
   "metadata": {},
   "source": [
    "### 2) (here there will be the (classical) part of the program dedicated in finding Fp) "
   ]
  },
  {
   "cell_type": "code",
   "execution_count": null,
   "metadata": {},
   "outputs": [],
   "source": []
  },
  {
   "cell_type": "markdown",
   "metadata": {},
   "source": [
    "### 3) part of the algorithm where is exploited quantum mechanics\n",
    "#### (for now we make specific attempts with the specific case mentioned above, then it will be generalized)"
   ]
  },
  {
   "cell_type": "code",
   "execution_count": 5,
   "metadata": {},
   "outputs": [],
   "source": [
    "# define initial state and operators that define the MaxCut problem\n",
    "\n",
    "s = tensor(x1,x1,x1,x1,x1) # intial state |s>\n",
    "B = tensor(X,I,I,I,I) + tensor(I,X,I,I,I) + tensor(I,I,X,I,I) + tensor(I,I,I,X,I) + tensor(I,I,I,I,X)\n",
    "beta = 0.2\n",
    "Ub = (-0.2j*B).expm()\n",
    "C = 0.5*(6*tensor(I,I,I,I,I)-(tensor(Z,Z,I,I,I)+tensor(Z,I,Z,I,I)+tensor(I,Z,Z,I,I)+tensor(I,I,Z,Z,I)+tensor(I,I,Z,I,Z)+tensor(I,I,I,Z,Z)))\n",
    "gamma = 1.9\n",
    "Uc = (-1.9j*C).expm()\n",
    "\n",
    "f = Ub*Uc*s # final state |gamma*,beta*> "
   ]
  },
  {
   "cell_type": "code",
   "execution_count": 6,
   "metadata": {},
   "outputs": [
    {
     "data": {
      "text/latex": [
       "Quantum object: dims = [[2, 2, 2, 2, 2], [1, 1, 1, 1, 1]], shape = (32, 1), type = ket\\begin{equation*}\\left(\\begin{array}{*{11}c}(0.213+0.138j)\\\\(-0.185+0.086j)\\\\(-0.185+0.086j)\\\\(-0.130+0.196j)\\\\(-0.060-0.224j)\\\\\\vdots\\\\(-0.060-0.224j)\\\\(-0.130+0.196j)\\\\(-0.185+0.086j)\\\\(-0.185+0.086j)\\\\(0.213+0.138j)\\\\\\end{array}\\right)\\end{equation*}"
      ],
      "text/plain": [
       "Quantum object: dims = [[2, 2, 2, 2, 2], [1, 1, 1, 1, 1]], shape = (32, 1), type = ket\n",
       "Qobj data =\n",
       "[[ 0.21286862+0.13811347j]\n",
       " [-0.18505029+0.08589526j]\n",
       " [-0.18505029+0.08589526j]\n",
       " [-0.13049178+0.19645694j]\n",
       " [-0.05996327-0.22440898j]\n",
       " [-0.00540476-0.1138473j ]\n",
       " [-0.00540476-0.1138473j ]\n",
       " [-0.13049178+0.19645694j]\n",
       " [-0.18505029+0.08589526j]\n",
       " [-0.00540476-0.1138473j ]\n",
       " [-0.00540476-0.1138473j ]\n",
       " [-0.00540476-0.1138473j ]\n",
       " [-0.00540476-0.1138473j ]\n",
       " [-0.00540476-0.1138473j ]\n",
       " [-0.00540476-0.1138473j ]\n",
       " [-0.18505029+0.08589526j]\n",
       " [-0.18505029+0.08589526j]\n",
       " [-0.00540476-0.1138473j ]\n",
       " [-0.00540476-0.1138473j ]\n",
       " [-0.00540476-0.1138473j ]\n",
       " [-0.00540476-0.1138473j ]\n",
       " [-0.00540476-0.1138473j ]\n",
       " [-0.00540476-0.1138473j ]\n",
       " [-0.18505029+0.08589526j]\n",
       " [-0.13049178+0.19645694j]\n",
       " [-0.00540476-0.1138473j ]\n",
       " [-0.00540476-0.1138473j ]\n",
       " [-0.05996327-0.22440898j]\n",
       " [-0.13049178+0.19645694j]\n",
       " [-0.18505029+0.08589526j]\n",
       " [-0.18505029+0.08589526j]\n",
       " [ 0.21286862+0.13811347j]]"
      ]
     },
     "execution_count": 6,
     "metadata": {},
     "output_type": "execute_result"
    }
   ],
   "source": [
    "f"
   ]
  },
  {
   "cell_type": "code",
   "execution_count": 10,
   "metadata": {},
   "outputs": [],
   "source": [
    "# define computational basis\n",
    "\n",
    "f0 = tensor(z1,z1,z1,z1,z1)\n",
    "f1 = tensor(z1,z1,z1,z1,z2)\n",
    "f2 = tensor(z1,z1,z1,z2,z1)\n",
    "f3 = tensor(z1,z1,z1,z2,z2)\n",
    "f4 = tensor(z1,z1,z2,z1,z1)\n",
    "f5 = tensor(z1,z1,z2,z1,z2)\n",
    "f6 = tensor(z1,z1,z2,z2,z1)\n",
    "f7 = tensor(z1,z1,z2,z2,z2)\n",
    "f8 = tensor(z1,z2,z1,z1,z1)\n",
    "f9 = tensor(z1,z2,z1,z1,z2)\n",
    "f10 = tensor(z1,z2,z1,z2,z1)\n",
    "f11 = tensor(z1,z2,z1,z2,z2)\n",
    "f12 = tensor(z1,z2,z2,z1,z1)\n",
    "f13 = tensor(z1,z2,z2,z1,z2)\n",
    "f14 = tensor(z1,z2,z2,z2,z1)\n",
    "f15 = tensor(z1,z2,z2,z2,z2)\n",
    "f16 = tensor(z2,z1,z1,z1,z1)\n",
    "f17 = tensor(z2,z1,z1,z1,z2)\n",
    "f18 = tensor(z2,z1,z1,z2,z1)\n",
    "f19 = tensor(z2,z1,z1,z2,z2)\n",
    "f20 = tensor(z2,z1,z2,z1,z1)\n",
    "f21 = tensor(z2,z1,z2,z1,z2)\n",
    "f22 = tensor(z2,z1,z2,z2,z1)\n",
    "f23 = tensor(z2,z1,z2,z2,z2)\n",
    "f24 = tensor(z2,z2,z1,z1,z1)\n",
    "f25 = tensor(z2,z2,z1,z1,z2)\n",
    "f26 = tensor(z2,z2,z1,z2,z1)\n",
    "f27 = tensor(z2,z2,z1,z2,z2)\n",
    "f28 = tensor(z2,z2,z2,z1,z1)\n",
    "f29 = tensor(z2,z2,z2,z1,z2)\n",
    "f30 = tensor(z2,z2,z2,z2,z1)\n",
    "f31 = tensor(z2,z2,z2,z2,z2)"
   ]
  },
  {
   "cell_type": "code",
   "execution_count": 11,
   "metadata": {},
   "outputs": [
    {
     "data": {
      "text/plain": [
       "32"
      ]
     },
     "execution_count": 11,
     "metadata": {},
     "output_type": "execute_result"
    }
   ],
   "source": [
    "# calculate probability of each state (which correspond to state of one of the possible cut)\n",
    "\n",
    "p0 = (f.dag()*f0).norm()\n",
    "p1 = (f.dag()*f1).norm()\n",
    "p2 = (f.dag()*f2).norm()\n",
    "p3 = (f.dag()*f3).norm()\n",
    "p4 = (f.dag()*f4).norm()\n",
    "p5 = (f.dag()*f5).norm()\n",
    "p6 = (f.dag()*f6).norm()\n",
    "p7 = (f.dag()*f7).norm()\n",
    "p8 = (f.dag()*f8).norm()\n",
    "p9 = (f.dag()*f9).norm()\n",
    "p10= (f.dag()*f10).norm()\n",
    "p11= (f.dag()*f11).norm()\n",
    "p12= (f.dag()*f12).norm()\n",
    "p13= (f.dag()*f13).norm()\n",
    "p14= (f.dag()*f14).norm()\n",
    "p15= (f.dag()*f15).norm()\n",
    "p16= (f.dag()*f16).norm()\n",
    "p17= (f.dag()*f17).norm()\n",
    "p18= (f.dag()*f18).norm()\n",
    "p19= (f.dag()*f19).norm()\n",
    "p20= (f.dag()*f20).norm()\n",
    "p21 = (f.dag()*f21).norm()\n",
    "p22= (f.dag()*f22).norm()\n",
    "p23= (f.dag()*f23).norm()\n",
    "p24= (f.dag()*f24).norm()\n",
    "p25= (f.dag()*f25).norm()\n",
    "p26= (f.dag()*f26).norm()\n",
    "p27= (f.dag()*f27).norm()\n",
    "p28= (f.dag()*f28).norm()\n",
    "p29= (f.dag()*f29).norm()\n",
    "p30= (f.dag()*f30).norm()\n",
    "p31= (f.dag()*f31).norm()\n",
    "\n",
    "p = [p0,p1,p2,p3,p4,p5,p6,p7,p8,p9,p10,p11,p12,p13,p14,p15,p16,p17,p18,p19,p20,p21,p22,p23,p24,p25,p26,p27,p28,p29,p30,p31]\n",
    "len(p)"
   ]
  },
  {
   "cell_type": "code",
   "execution_count": 12,
   "metadata": {},
   "outputs": [
    {
     "data": {
      "text/plain": [
       "[0.25374865621521525,\n",
       " 0.2040137385623776,\n",
       " 0.20401373856237762,\n",
       " 0.23584620793580444,\n",
       " 0.23228211916270772,\n",
       " 0.11397551650577396,\n",
       " 0.113975516505774,\n",
       " 0.23584620793580446,\n",
       " 0.20401373856237762,\n",
       " 0.11397551650577399,\n",
       " 0.11397551650577402,\n",
       " 0.11397551650577399,\n",
       " 0.11397551650577394,\n",
       " 0.11397551650577399,\n",
       " 0.113975516505774,\n",
       " 0.20401373856237762,\n",
       " 0.2040137385623777,\n",
       " 0.11397551650577403,\n",
       " 0.11397551650577402,\n",
       " 0.11397551650577399,\n",
       " 0.11397551650577405,\n",
       " 0.11397551650577403,\n",
       " 0.11397551650577405,\n",
       " 0.2040137385623776,\n",
       " 0.23584620793580435,\n",
       " 0.11397551650577402,\n",
       " 0.11397551650577403,\n",
       " 0.23228211916270772,\n",
       " 0.23584620793580444,\n",
       " 0.20401373856237764,\n",
       " 0.20401373856237767,\n",
       " 0.25374865621521525]"
      ]
     },
     "execution_count": 12,
     "metadata": {},
     "output_type": "execute_result"
    }
   ],
   "source": [
    "p"
   ]
  },
  {
   "cell_type": "code",
   "execution_count": 13,
   "metadata": {},
   "outputs": [
    {
     "data": {
      "text/plain": [
       "0.999999999999999"
      ]
     },
     "execution_count": 13,
     "metadata": {},
     "output_type": "execute_result"
    }
   ],
   "source": [
    "sq_sum = 0\n",
    "for i in range(len(p)):\n",
    "    sq_sum += (p[i]*p[i])\n",
    "sq_sum"
   ]
  },
  {
   "cell_type": "code",
   "execution_count": 14,
   "metadata": {},
   "outputs": [
    {
     "data": {
      "text/plain": [
       "<BarContainer object of 32 artists>"
      ]
     },
     "execution_count": 14,
     "metadata": {},
     "output_type": "execute_result"
    },
    {
     "data": {
      "image/png": "[encoded data removed]",
      "text/plain": [
       "<Figure size 432x288 with 1 Axes>"
      ]
     },
     "metadata": {
      "needs_background": "light"
     },
     "output_type": "display_data"
    }
   ],
   "source": [
    "plt.bar(('00000','00001','00010','00011','00100','00101','00110','00111','01000','01001','01010','01011','01100','01101','01110','01111','10000','10001','10010','10011','10100','10101','10110','10111','11000','11001','11010','11011','11100','11101','11110','11111'),p)"
   ]
  },
  {
   "cell_type": "code",
   "execution_count": null,
   "metadata": {},
   "outputs": [],
   "source": []
  }
 ],
 "metadata": {
  "kernelspec": {
   "display_name": "Python 3",
   "language": "python",
   "name": "python3"
  },
  "language_info": {
   "codemirror_mode": {
    "name": "ipython",
    "version": 3
   },
   "file_extension": ".py",
   "mimetype": "text/x-python",
   "name": "python",
   "nbconvert_exporter": "python",
   "pygments_lexer": "ipython3",
   "version": "3.8.3"
  }
 },
 "nbformat": 4,
 "nbformat_minor": 4
}
