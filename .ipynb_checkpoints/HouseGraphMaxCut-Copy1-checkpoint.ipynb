{
 "cells": [
  {
   "cell_type": "code",
   "execution_count": 2,
   "metadata": {},
   "outputs": [],
   "source": [
    "from qutip import *\n",
    "import numpy as np\n",
    "import matplotlib.pyplot as plt"
   ]
  },
  {
   "cell_type": "code",
   "execution_count": 3,
   "metadata": {},
   "outputs": [],
   "source": [
    "# define up and down states (Z-eigenvectors)\n",
    "z0 = basis(2,0)\n",
    "z1 = basis(2,1)\n",
    "\n",
    "# define plus and minus states (X-eigenvectors)\n",
    "x0 = (basis(2,0) + basis(2,1)).unit()\n",
    "x1 = (basis(2,0) - basis(2,1)).unit()"
   ]
  },
  {
   "cell_type": "markdown",
   "metadata": {},
   "source": [
    "# Apply QAOA for MaxCut problem :"
   ]
  },
  {
   "cell_type": "markdown",
   "metadata": {},
   "source": [
    "###  1) (here there will be the part where the specific graph is defined)"
   ]
  },
  {
   "cell_type": "markdown",
   "metadata": {},
   "source": [
    "(the final program for a general graph should depend only on the parameters defined at this point) \n",
    "\n",
    "(e ovviamente gli angoli trovati nel punto 2)"
   ]
  },
  {
   "cell_type": "code",
   "execution_count": 68,
   "metadata": {},
   "outputs": [],
   "source": [
    "# definire insieme vertici (which gives the dimension of Hilbert space L = #verticies)\n",
    "L = 5\n",
    "# definire grafo (provare come lista di coppie)\n",
    "G = [('0','1'),('0','2'),('1','2'),('2','3'),('2','4'),('3','4')] \n",
    "# provare se:\n",
    "# - il discorso delle coppie così va bene\n",
    "# - ha senso usare come valori stringhe o interi"
   ]
  },
  {
   "cell_type": "markdown",
   "metadata": {},
   "source": [
    "### 2) (here there will be the (classical) part of the program dedicated in finding γ and β which maximize Fp ) "
   ]
  },
  {
   "cell_type": "code",
   "execution_count": null,
   "metadata": {},
   "outputs": [],
   "source": []
  },
  {
   "cell_type": "markdown",
   "metadata": {},
   "source": [
    "### 3) part of the algorithm where is exploited quantum mechanics"
   ]
  },
  {
   "cell_type": "code",
   "execution_count": 82,
   "metadata": {},
   "outputs": [],
   "source": [
    "# define list of tensor of operators that act on single qubit of Hilbrt space obtained from L single qubit H (H2xL)\n",
    "I = tensor([qeye(2)]*L)\n",
    "X = []\n",
    "Y = []\n",
    "Z = []\n",
    "for i in range(L):\n",
    "    X.append(tensor([qeye(2)]*i+[sigmax()]+[qeye(2)]*(L-i-1)))\n",
    "for i in range(L):\n",
    "    Y.append(tensor([qeye(2)]*i+[sigmay()]+[qeye(2)]*(L-i-1)))\n",
    "for i in range(L):\n",
    "    Z.append(tensor([qeye(2)]*i+[sigmaz()]+[qeye(2)]*(L-i-1)))\n",
    "        \n",
    "# per creare le liste ho usato questo modo, chiedere a Vodola se c'è un metodo più \"furbo\""
   ]
  },
  {
   "cell_type": "code",
   "execution_count": 70,
   "metadata": {},
   "outputs": [],
   "source": [
    "# initial state |s>:\n",
    "listS = []\n",
    "for i in range(L):\n",
    "    listS.append(x0)\n",
    "s = tensor(listS) # come per gli opratori, vedere se c'è un metodo più \"furbo\""
   ]
  },
  {
   "cell_type": "code",
   "execution_count": 73,
   "metadata": {},
   "outputs": [],
   "source": [
    "# define operators B and Ub:\n",
    "B = sum(X)\n",
    "beta = 0.2\n",
    "Ub = (-0.2j*B).expm()"
   ]
  },
  {
   "cell_type": "code",
   "execution_count": 83,
   "metadata": {},
   "outputs": [],
   "source": [
    "# define operators C and Uc:\n",
    "listC = [Z[0]*Z[1],Z[0]*Z[2],Z[1]*Z[2],Z[2]*Z[3],Z[2]*Z[4],Z[3]*Z[4]] \n",
    "# per adesso uso questa soluzione poco bella, dopo la presentazione cerco di fare rifermento a G\n",
    "C = (len(G)*I - sum(listC))/2\n",
    "gamma = 1.9\n",
    "Uc = (-1.9j*C).expm()"
   ]
  },
  {
   "cell_type": "code",
   "execution_count": 84,
   "metadata": {},
   "outputs": [],
   "source": [
    "# define final state\n",
    "f = Ub*Uc*s"
   ]
  },
  {
   "cell_type": "code",
   "execution_count": 85,
   "metadata": {},
   "outputs": [],
   "source": [
    "# create a list with probabilities of each state of the computational basis in the state f\n",
    "\n",
    "p_f = []\n",
    "list_cbasis = []\n",
    "for i in range(2**L):\n",
    "    list_cbasis.append(bin(i)[2:].zfill(L))\n",
    "    b = []\n",
    "    for j in range(L):\n",
    "        b.append(basis(2,int(list_cbasis[i][j])))\n",
    "    p_f.append(((tensor(b).dag()*f).norm())**2)    "
   ]
  },
  {
   "cell_type": "code",
   "execution_count": 88,
   "metadata": {},
   "outputs": [
    {
     "data": {
      "text/plain": [
       "0.999999999999999"
      ]
     },
     "execution_count": 88,
     "metadata": {},
     "output_type": "execute_result"
    }
   ],
   "source": [
    "sum(p_f)"
   ]
  },
  {
   "cell_type": "code",
   "execution_count": 86,
   "metadata": {},
   "outputs": [
    {
     "data": {
      "text/plain": [
       "<BarContainer object of 32 artists>"
      ]
     },
     "execution_count": 86,
     "metadata": {},
     "output_type": "execute_result"
    },
    {
     "data": {
      "image/png": "[encoded data removed]",
      "text/plain": [
       "<Figure size 1080x720 with 1 Axes>"
      ]
     },
     "metadata": {
      "needs_background": "light"
     },
     "output_type": "display_data"
    }
   ],
   "source": [
    "plt.figure(figsize = (15,10))\n",
    "plt.xticks(rotation=45)\n",
    "plt.bar(list_cbasis,p_f,width = 0.5)"
   ]
  },
  {
   "cell_type": "code",
   "execution_count": null,
   "metadata": {},
   "outputs": [],
   "source": []
  }
 ],
 "metadata": {
  "kernelspec": {
   "display_name": "Python 3",
   "language": "python",
   "name": "python3"
  },
  "language_info": {
   "codemirror_mode": {
    "name": "ipython",
    "version": 3
   },
   "file_extension": ".py",
   "mimetype": "text/x-python",
   "name": "python",
   "nbconvert_exporter": "python",
   "pygments_lexer": "ipython3",
   "version": "3.8.3"
  }
 },
 "nbformat": 4,
 "nbformat_minor": 4
}
