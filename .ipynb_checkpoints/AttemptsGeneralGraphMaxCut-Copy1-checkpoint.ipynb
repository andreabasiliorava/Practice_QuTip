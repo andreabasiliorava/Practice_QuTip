{
 "cells": [
  {
   "cell_type": "code",
   "execution_count": 2,
   "metadata": {},
   "outputs": [],
   "source": [
    "from qutip import *\n",
    "import numpy as np\n",
    "import matplotlib.pyplot as plt"
   ]
  },
  {
   "cell_type": "code",
   "execution_count": 3,
   "metadata": {},
   "outputs": [],
   "source": [
    "# define up and down states (Z-eigenvectors)\n",
    "z0 = basis(2,0)\n",
    "z1 = basis(2,1)\n",
    "\n",
    "# define plus and minus states (X-eigenvectors)\n",
    "x0 = (basis(2,0) + basis(2,1)).unit()\n",
    "x1 = (basis(2,0) - basis(2,1)).unit()"
   ]
  },
  {
   "cell_type": "markdown",
   "metadata": {},
   "source": [
    "# Apply QAOA for MaxCut problem :\n",
    "#### (for now we apply it to a simple graph (G(V,E), V={0,1,2}, E = {<01>,<12>}), then we try to generalize it)"
   ]
  },
  {
   "cell_type": "markdown",
   "metadata": {},
   "source": [
    "###  1) (here there will be the part where the specific graph is defined)"
   ]
  },
  {
   "cell_type": "markdown",
   "metadata": {},
   "source": [
    "(the final program for a general graph should depend only on the parameters defined at this point) \n",
    "\n",
    "(e ovviamente gli angoli trovati nel punto 2)"
   ]
  },
  {
   "cell_type": "code",
   "execution_count": 22,
   "metadata": {},
   "outputs": [],
   "source": [
    "# definire insieme vertici (which gives the dimension of Hilbert space L = #verticies)\n",
    "L = 3\n",
    "# definire grafo (provare come lista di coppie)\n",
    "G = [('0','1'),('1','2')] \n",
    "# provare se:\n",
    "# - il discorso delle coppie così va bene\n",
    "# - ha senso usare come valori stringhe o interi"
   ]
  },
  {
   "cell_type": "markdown",
   "metadata": {},
   "source": [
    "### 2) (here there will be the (classical) part of the program dedicated in finding γ and β which maximize Fp ) "
   ]
  },
  {
   "cell_type": "code",
   "execution_count": null,
   "metadata": {},
   "outputs": [],
   "source": []
  },
  {
   "cell_type": "markdown",
   "metadata": {},
   "source": [
    "### 3) part of the algorithm where is exploited quantum mechanics\n",
    "#### (for now we make specific attempts with the specific case mentioned above, then it will be generalized)"
   ]
  },
  {
   "cell_type": "code",
   "execution_count": 24,
   "metadata": {},
   "outputs": [],
   "source": [
    "# define list of tensor of operators that act on single qubit of Hilbrt space obtained from L single qubit H (H2xL)\n",
    "I = tensor([qeye(2)]*L)\n",
    "X = []\n",
    "Y = []\n",
    "Z = []\n",
    "for i in range(L):\n",
    "    X.append(tensor([qeye(2)]*i+[sigmax()]+[qeye(2)]*(L-i-1)))\n",
    "for i in range(L):\n",
    "    Y.append(tensor([qeye(2)]*i+[sigmay()]+[qeye(2)]*(L-i-1)))\n",
    "for i in range(L):\n",
    "    Z.append(tensor([qeye(2)]*i+[sigmaz()]+[qeye(2)]*(L-i-1)))\n",
    "    \n",
    "listC = [Z[0]*Z[1],Z[1]*Z[2]] # per adesso uso questa soluzione poco bella, dopo la presentazione cerco di fare rifermento a G\n",
    "    \n",
    "# per creare le liste ho usato questo modo, chiedere a Vodola se c'è un metodo più \"furbo\""
   ]
  },
  {
   "cell_type": "code",
   "execution_count": 33,
   "metadata": {},
   "outputs": [],
   "source": [
    "# initial state |s>:\n",
    "listS = []\n",
    "for i in range(L):\n",
    "    listS.append(x0)\n",
    "s = tensor(listS) # come per gli opratori, vedere se c'è un metodo più \"furbo\""
   ]
  },
  {
   "cell_type": "code",
   "execution_count": 15,
   "metadata": {},
   "outputs": [],
   "source": [
    "# define operators B and Ub:\n",
    "B = sum(X)\n",
    "beta = 0.392699\n",
    "Ub = (-0.392699j*B).expm()"
   ]
  },
  {
   "cell_type": "code",
   "execution_count": 31,
   "metadata": {},
   "outputs": [],
   "source": [
    "# define operators C and Uc:\n",
    "C = (len(G)*I - sum(listC))/2\n",
    "gamma = 1.0472\n",
    "Uc = (-1.0472j*C).expm()"
   ]
  },
  {
   "cell_type": "code",
   "execution_count": 36,
   "metadata": {},
   "outputs": [],
   "source": [
    "# define final state\n",
    "f = Ub*Uc*s"
   ]
  },
  {
   "cell_type": "code",
   "execution_count": 59,
   "metadata": {},
   "outputs": [],
   "source": [
    "# create a list with probabilities of each state of the computational basis in the state f\n",
    "\n",
    "p_f = []\n",
    "list_cbasis = []\n",
    "for i in range(2**L):\n",
    "    list_cbasis.append(bin(i)[2:].zfill(L))\n",
    "    b = []\n",
    "    for j in range(L):\n",
    "        b.append(basis(2,int(list_cbasis[i][j])))\n",
    "    p_f.append(((tensor(b).dag()*f).norm())**2)\n",
    "    "
   ]
  },
  {
   "cell_type": "code",
   "execution_count": 67,
   "metadata": {},
   "outputs": [
    {
     "data": {
      "text/plain": [
       "<BarContainer object of 8 artists>"
      ]
     },
     "execution_count": 67,
     "metadata": {},
     "output_type": "execute_result"
    },
    {
     "data": {
      "image/png": "[encoded data removed]",
      "text/plain": [
       "<Figure size 432x288 with 1 Axes>"
      ]
     },
     "metadata": {
      "needs_background": "light"
     },
     "output_type": "display_data"
    }
   ],
   "source": [
    "plt.xticks(rotation=45)\n",
    "plt.bar(list_cbasis,p_f,width = 0.5)"
   ]
  },
  {
   "cell_type": "code",
   "execution_count": 60,
   "metadata": {},
   "outputs": [
    {
     "data": {
      "text/plain": [
       "[0.009495354018030868,\n",
       " 0.07812488277336929,\n",
       " 0.3342548804352305,\n",
       " 0.07812488277336929,\n",
       " 0.07812488277336929,\n",
       " 0.33425488043523033,\n",
       " 0.07812488277336924,\n",
       " 0.009495354018030854]"
      ]
     },
     "execution_count": 60,
     "metadata": {},
     "output_type": "execute_result"
    }
   ],
   "source": [
    "p_f"
   ]
  },
  {
   "cell_type": "code",
   "execution_count": 61,
   "metadata": {},
   "outputs": [
    {
     "data": {
      "text/plain": [
       "0.9999999999999996"
      ]
     },
     "execution_count": 61,
     "metadata": {},
     "output_type": "execute_result"
    }
   ],
   "source": [
    "sum(p_f)"
   ]
  },
  {
   "cell_type": "markdown",
   "metadata": {},
   "source": [
    "#### now I have to understand of to generate with a loop the coefficients of f on the computational basis:\n"
   ]
  },
  {
   "cell_type": "code",
   "execution_count": 48,
   "metadata": {},
   "outputs": [
    {
     "data": {
      "text/latex": [
       "Quantum object: dims = [[1], [1]], shape = (1, 1), type = bra\\begin{equation*}\\left(\\begin{array}{*{11}c}(-0.091-0.264j)\\\\\\end{array}\\right)\\end{equation*}"
      ],
      "text/plain": [
       "Quantum object: dims = [[1], [1]], shape = (1, 1), type = bra\n",
       "Qobj data =\n",
       "[[-0.09129913-0.26417674j]]"
      ]
     },
     "execution_count": 48,
     "metadata": {},
     "output_type": "execute_result"
    }
   ],
   "source": [
    "# this the expression of f4\n",
    "tensor(basis(2,1),basis(2,0),basis(2,0)).dag()*f"
   ]
  },
  {
   "cell_type": "markdown",
   "metadata": {},
   "source": [
    "now I try to write it again, but with a genreral expression, where in the \"basis()\" terms, there are the coefficients '0' or '1' from it's binary form 001:"
   ]
  },
  {
   "cell_type": "code",
   "execution_count": 49,
   "metadata": {},
   "outputs": [
    {
     "data": {
      "text/plain": [
       "'100'"
      ]
     },
     "execution_count": 49,
     "metadata": {},
     "output_type": "execute_result"
    }
   ],
   "source": [
    "bin(4)[2:].zfill(L)"
   ]
  },
  {
   "cell_type": "code",
   "execution_count": 50,
   "metadata": {},
   "outputs": [],
   "source": [
    "list_cbasis = []\n",
    "for i in range(2**L):\n",
    "    list_cbasis.append(bin(i)[2:].zfill(L))"
   ]
  },
  {
   "cell_type": "code",
   "execution_count": 51,
   "metadata": {},
   "outputs": [
    {
     "data": {
      "text/plain": [
       "['000', '001', '010', '011', '100', '101', '110', '111']"
      ]
     },
     "execution_count": 51,
     "metadata": {},
     "output_type": "execute_result"
    }
   ],
   "source": [
    "list_cbasis"
   ]
  },
  {
   "cell_type": "code",
   "execution_count": 54,
   "metadata": {},
   "outputs": [
    {
     "data": {
      "text/plain": [
       "'100'"
      ]
     },
     "execution_count": 54,
     "metadata": {},
     "output_type": "execute_result"
    }
   ],
   "source": [
    "list_cbasis[4]"
   ]
  },
  {
   "cell_type": "code",
   "execution_count": 55,
   "metadata": {},
   "outputs": [
    {
     "data": {
      "text/plain": [
       "'0'"
      ]
     },
     "execution_count": 55,
     "metadata": {},
     "output_type": "execute_result"
    }
   ],
   "source": [
    "list_cbasis[4][1]"
   ]
  },
  {
   "cell_type": "code",
   "execution_count": 53,
   "metadata": {},
   "outputs": [
    {
     "data": {
      "text/latex": [
       "Quantum object: dims = [[1], [1]], shape = (1, 1), type = bra\\begin{equation*}\\left(\\begin{array}{*{11}c}(-0.091-0.264j)\\\\\\end{array}\\right)\\end{equation*}"
      ],
      "text/plain": [
       "Quantum object: dims = [[1], [1]], shape = (1, 1), type = bra\n",
       "Qobj data =\n",
       "[[-0.09129913-0.26417674j]]"
      ]
     },
     "execution_count": 53,
     "metadata": {},
     "output_type": "execute_result"
    }
   ],
   "source": [
    "# at j = 4 in range(2**L):\n",
    "b = []\n",
    "for j in range(L):\n",
    "    b.append(basis(2,int(list_cbasis[4][j])))\n",
    "tensor(b).dag()*f"
   ]
  },
  {
   "cell_type": "code",
   "execution_count": 57,
   "metadata": {},
   "outputs": [
    {
     "data": {
      "text/plain": [
       "<function numpy.array>"
      ]
     },
     "execution_count": 57,
     "metadata": {},
     "output_type": "execute_result"
    }
   ],
   "source": [
    "p"
   ]
  },
  {
   "cell_type": "code",
   "execution_count": 40,
   "metadata": {},
   "outputs": [
    {
     "data": {
      "text/latex": [
       "Quantum object: dims = [[2, 2, 2], [1, 1, 1]], shape = (8, 1), type = ket\\begin{equation*}\\left(\\begin{array}{*{11}c}(-0.045+0.086j)\\\\(-0.091-0.264j)\\\\(-0.418-0.399j)\\\\(-0.091-0.264j)\\\\(-0.091-0.264j)\\\\(-0.418-0.399j)\\\\(-0.091-0.264j)\\\\(-0.045+0.086j)\\\\\\end{array}\\right)\\end{equation*}"
      ],
      "text/plain": [
       "Quantum object: dims = [[2, 2, 2], [1, 1, 1]], shape = (8, 1), type = ket\n",
       "Qobj data =\n",
       "[[-0.0451506 +0.08635263j]\n",
       " [-0.09129913-0.26417674j]\n",
       " [-0.41794108-0.39947483j]\n",
       " [-0.09129913-0.26417674j]\n",
       " [-0.09129913-0.26417674j]\n",
       " [-0.41794108-0.39947483j]\n",
       " [-0.09129913-0.26417674j]\n",
       " [-0.0451506 +0.08635263j]]"
      ]
     },
     "execution_count": 40,
     "metadata": {},
     "output_type": "execute_result"
    }
   ],
   "source": [
    "f"
   ]
  },
  {
   "cell_type": "code",
   "execution_count": 32,
   "metadata": {},
   "outputs": [
    {
     "data": {
      "text/plain": [
       "True"
      ]
     },
     "execution_count": 32,
     "metadata": {},
     "output_type": "execute_result"
    }
   ],
   "source": [
    "C == C1"
   ]
  },
  {
   "cell_type": "code",
   "execution_count": 19,
   "metadata": {},
   "outputs": [
    {
     "data": {
      "text/latex": [
       "Quantum object: dims = [[2, 2, 2], [2, 2, 2]], shape = (8, 8), type = oper, isherm = True\\begin{equation*}\\left(\\begin{array}{*{11}c}0.0 & 1.0 & 1.0 & 0.0 & 1.0 & 0.0 & 0.0 & 0.0\\\\1.0 & 0.0 & 0.0 & 1.0 & 0.0 & 1.0 & 0.0 & 0.0\\\\1.0 & 0.0 & 0.0 & 1.0 & 0.0 & 0.0 & 1.0 & 0.0\\\\0.0 & 1.0 & 1.0 & 0.0 & 0.0 & 0.0 & 0.0 & 1.0\\\\1.0 & 0.0 & 0.0 & 0.0 & 0.0 & 1.0 & 1.0 & 0.0\\\\0.0 & 1.0 & 0.0 & 0.0 & 1.0 & 0.0 & 0.0 & 1.0\\\\0.0 & 0.0 & 1.0 & 0.0 & 1.0 & 0.0 & 0.0 & 1.0\\\\0.0 & 0.0 & 0.0 & 1.0 & 0.0 & 1.0 & 1.0 & 0.0\\\\\\end{array}\\right)\\end{equation*}"
      ],
      "text/plain": [
       "Quantum object: dims = [[2, 2, 2], [2, 2, 2]], shape = (8, 8), type = oper, isherm = True\n",
       "Qobj data =\n",
       "[[0. 1. 1. 0. 1. 0. 0. 0.]\n",
       " [1. 0. 0. 1. 0. 1. 0. 0.]\n",
       " [1. 0. 0. 1. 0. 0. 1. 0.]\n",
       " [0. 1. 1. 0. 0. 0. 0. 1.]\n",
       " [1. 0. 0. 0. 0. 1. 1. 0.]\n",
       " [0. 1. 0. 0. 1. 0. 0. 1.]\n",
       " [0. 0. 1. 0. 1. 0. 0. 1.]\n",
       " [0. 0. 0. 1. 0. 1. 1. 0.]]"
      ]
     },
     "execution_count": 19,
     "metadata": {},
     "output_type": "execute_result"
    }
   ],
   "source": [
    "B"
   ]
  },
  {
   "cell_type": "code",
   "execution_count": 35,
   "metadata": {},
   "outputs": [],
   "source": [
    "# define initial state and operators that define the MaxCut problem\n",
    "\n",
    "s = tensor(x0,x0,x0) # intial state |s>\n",
    "B1 = tensor(sigmax(),qeye(2),qeye(2)) + tensor(qeye(2),sigmax(),qeye(2)) + tensor(qeye(2),qeye(2),sigmax()) \n",
    "beta = -0.392699\n",
    "#Ub = (-0.392699j*B).expm()\n",
    "C1 = 0.5*(tensor(qeye(2),qeye(2),qeye(2)) - tensor(sigmaz(),sigmaz(),qeye(2))) + 0.5*(tensor(qeye(2),qeye(2),qeye(2)) - tensor(qeye(2),sigmaz(),sigmaz()))\n",
    "gamma = -1.0472\n",
    "#Uc = (-1.0472j*C).expm()\n",
    "\n",
    "#f = Ub*Uc*s # final state |gamma*,beta*> \n",
    "\n",
    "#definire operatori come liste o dizionari\n"
   ]
  },
  {
   "cell_type": "code",
   "execution_count": 18,
   "metadata": {},
   "outputs": [
    {
     "data": {
      "text/latex": [
       "Quantum object: dims = [[2, 2, 2], [2, 2, 2]], shape = (8, 8), type = oper, isherm = True\\begin{equation*}\\left(\\begin{array}{*{11}c}0.0 & 1.0 & 1.0 & 0.0 & 1.0 & 0.0 & 0.0 & 0.0\\\\1.0 & 0.0 & 0.0 & 1.0 & 0.0 & 1.0 & 0.0 & 0.0\\\\1.0 & 0.0 & 0.0 & 1.0 & 0.0 & 0.0 & 1.0 & 0.0\\\\0.0 & 1.0 & 1.0 & 0.0 & 0.0 & 0.0 & 0.0 & 1.0\\\\1.0 & 0.0 & 0.0 & 0.0 & 0.0 & 1.0 & 1.0 & 0.0\\\\0.0 & 1.0 & 0.0 & 0.0 & 1.0 & 0.0 & 0.0 & 1.0\\\\0.0 & 0.0 & 1.0 & 0.0 & 1.0 & 0.0 & 0.0 & 1.0\\\\0.0 & 0.0 & 0.0 & 1.0 & 0.0 & 1.0 & 1.0 & 0.0\\\\\\end{array}\\right)\\end{equation*}"
      ],
      "text/plain": [
       "Quantum object: dims = [[2, 2, 2], [2, 2, 2]], shape = (8, 8), type = oper, isherm = True\n",
       "Qobj data =\n",
       "[[0. 1. 1. 0. 1. 0. 0. 0.]\n",
       " [1. 0. 0. 1. 0. 1. 0. 0.]\n",
       " [1. 0. 0. 1. 0. 0. 1. 0.]\n",
       " [0. 1. 1. 0. 0. 0. 0. 1.]\n",
       " [1. 0. 0. 0. 0. 1. 1. 0.]\n",
       " [0. 1. 0. 0. 1. 0. 0. 1.]\n",
       " [0. 0. 1. 0. 1. 0. 0. 1.]\n",
       " [0. 0. 0. 1. 0. 1. 1. 0.]]"
      ]
     },
     "execution_count": 18,
     "metadata": {},
     "output_type": "execute_result"
    }
   ],
   "source": [
    "B1"
   ]
  },
  {
   "cell_type": "code",
   "execution_count": 20,
   "metadata": {},
   "outputs": [
    {
     "data": {
      "text/plain": [
       "True"
      ]
     },
     "execution_count": 20,
     "metadata": {},
     "output_type": "execute_result"
    }
   ],
   "source": [
    "B == B1"
   ]
  },
  {
   "cell_type": "code",
   "execution_count": 11,
   "metadata": {},
   "outputs": [
    {
     "data": {
      "text/latex": [
       "Quantum object: dims = [[2, 2, 2], [1, 1, 1]], shape = (8, 1), type = ket\\begin{equation*}\\left(\\begin{array}{*{11}c}0.354\\\\0.354\\\\0.354\\\\0.354\\\\0.354\\\\0.354\\\\0.354\\\\0.354\\\\\\end{array}\\right)\\end{equation*}"
      ],
      "text/plain": [
       "Quantum object: dims = [[2, 2, 2], [1, 1, 1]], shape = (8, 1), type = ket\n",
       "Qobj data =\n",
       "[[0.35355339]\n",
       " [0.35355339]\n",
       " [0.35355339]\n",
       " [0.35355339]\n",
       " [0.35355339]\n",
       " [0.35355339]\n",
       " [0.35355339]\n",
       " [0.35355339]]"
      ]
     },
     "execution_count": 11,
     "metadata": {},
     "output_type": "execute_result"
    }
   ],
   "source": [
    "s"
   ]
  },
  {
   "cell_type": "markdown",
   "metadata": {},
   "source": [
    "#### esempi vodola per riscrivere operatori:\n",
    "(vedere video chiamata e chat teams)\n",
    "    \n",
    "L = 7\n",
    "\n",
    "Id = qu.tensor([qu.qeye(2)] * L)\n",
    "\n",
    "temp = [[qu.qeye(2)] * j + [qu.sigmax()] + [qu.qeye(2)] * (L - j -1) for j in range(L)]\n",
    "\n",
    "X = [qu.tensor(temp[j]) for j in range(L)]\n",
    "    \n",
    "Z[2]\n",
    "    \n",
    "tensor(qeye(2), qeye(2), sigmaz())\n",
    "    \n",
    "[qeye(2), qeye(2)] + [sigmaz()]\n",
    "    \n",
    "[sigmaz()] + [qeye(2), qeye(2)]\n",
    "    \n",
    "[qeye(2)] + [sigmaz()] + [qeye(2)]\n",
    "    \n",
    "qeye(2), qeye(2)] + [sigmaz()]\n"
   ]
  },
  {
   "cell_type": "code",
   "execution_count": 44,
   "metadata": {},
   "outputs": [
    {
     "data": {
      "text/latex": [
       "Quantum object: dims = [[2, 2, 2], [1, 1, 1]], shape = (8, 1), type = ket\\begin{equation*}\\left(\\begin{array}{*{11}c}(-0.045+0.086j)\\\\(-0.091-0.264j)\\\\(-0.418-0.399j)\\\\(-0.091-0.264j)\\\\(-0.091-0.264j)\\\\(-0.418-0.399j)\\\\(-0.091-0.264j)\\\\(-0.045+0.086j)\\\\\\end{array}\\right)\\end{equation*}"
      ],
      "text/plain": [
       "Quantum object: dims = [[2, 2, 2], [1, 1, 1]], shape = (8, 1), type = ket\n",
       "Qobj data =\n",
       "[[-0.0451506 +0.08635263j]\n",
       " [-0.09129913-0.26417674j]\n",
       " [-0.41794108-0.39947483j]\n",
       " [-0.09129913-0.26417674j]\n",
       " [-0.09129913-0.26417674j]\n",
       " [-0.41794108-0.39947483j]\n",
       " [-0.09129913-0.26417674j]\n",
       " [-0.0451506 +0.08635263j]]"
      ]
     },
     "execution_count": 44,
     "metadata": {},
     "output_type": "execute_result"
    }
   ],
   "source": [
    "f"
   ]
  },
  {
   "cell_type": "code",
   "execution_count": 45,
   "metadata": {},
   "outputs": [],
   "source": [
    "# define computational basis\n",
    "\n",
    "f1 = tensor(z1,z1,z1)\n",
    "f2 = tensor(z1,z1,z2)\n",
    "f3 = tensor(z1,z2,z1)\n",
    "f4 = tensor(z1,z2,z2)\n",
    "f5 = tensor(z2,z1,z1)\n",
    "f6 = tensor(z2,z1,z2)\n",
    "f7 = tensor(z2,z2,z1)\n",
    "f8 = tensor(z2,z2,z2)\n",
    "\n",
    "# fare un dizionario per tenere tutte le info di f"
   ]
  },
  {
   "cell_type": "code",
   "execution_count": 46,
   "metadata": {},
   "outputs": [
    {
     "data": {
      "text/plain": [
       "8"
      ]
     },
     "execution_count": 46,
     "metadata": {},
     "output_type": "execute_result"
    }
   ],
   "source": [
    "# calculate probability of each state (which correspond to state of one of the possible cut)\n",
    "\n",
    "p1 = (f.dag()*f1).norm()\n",
    "p2 = (f.dag()*f2).norm()\n",
    "p3 = (f.dag()*f3).norm()\n",
    "p4 = (f.dag()*f4).norm()\n",
    "p5 = (f.dag()*f5).norm()\n",
    "p6 = (f.dag()*f6).norm()\n",
    "p7 = (f.dag()*f7).norm()\n",
    "p8 = (f.dag()*f8).norm()\n",
    "\n",
    "p = [p1,p2,p3,p4,p5,p6,p7,p8]\n",
    "len(p)\n",
    "\n",
    "# per fare operazioni usare np.array\n",
    "# (numpy) può ance fare operazioni \"element wise\" (np.array[1,2,3]**2 da un array col quadrato dei singoli elemnti)\n",
    "# np.abs(np.array([1j,2j,3]) ** 2)per num complessi"
   ]
  },
  {
   "cell_type": "code",
   "execution_count": 47,
   "metadata": {},
   "outputs": [
    {
     "data": {
      "text/plain": [
       "[0.09744410714882079,\n",
       " 0.279508287486023,\n",
       " 0.5781478015483847,\n",
       " 0.279508287486023,\n",
       " 0.279508287486023,\n",
       " 0.5781478015483846,\n",
       " 0.2795082874860229,\n",
       " 0.09744410714882072]"
      ]
     },
     "execution_count": 47,
     "metadata": {},
     "output_type": "execute_result"
    }
   ],
   "source": [
    "p"
   ]
  },
  {
   "cell_type": "code",
   "execution_count": 48,
   "metadata": {},
   "outputs": [
    {
     "data": {
      "text/plain": [
       "0.9999999999999996"
      ]
     },
     "execution_count": 48,
     "metadata": {},
     "output_type": "execute_result"
    }
   ],
   "source": [
    "sq_sum = 0\n",
    "for i in range(len(p)):\n",
    "    sq_sum += (p[i]*p[i])\n",
    "sq_sum"
   ]
  },
  {
   "cell_type": "code",
   "execution_count": 38,
   "metadata": {},
   "outputs": [
    {
     "ename": "NameError",
     "evalue": "name 'p' is not defined",
     "output_type": "error",
     "traceback": [
      "\u001b[1;31m---------------------------------------------------------------------------\u001b[0m",
      "\u001b[1;31mNameError\u001b[0m                                 Traceback (most recent call last)",
      "\u001b[1;32m<ipython-input-38-a9be235ed0b4>\u001b[0m in \u001b[0;36m<module>\u001b[1;34m\u001b[0m\n\u001b[1;32m----> 1\u001b[1;33m \u001b[0mplt\u001b[0m\u001b[1;33m.\u001b[0m\u001b[0mbar\u001b[0m\u001b[1;33m(\u001b[0m\u001b[1;33m(\u001b[0m\u001b[1;34m'000'\u001b[0m\u001b[1;33m,\u001b[0m\u001b[1;34m'001'\u001b[0m\u001b[1;33m,\u001b[0m\u001b[1;34m'010'\u001b[0m\u001b[1;33m,\u001b[0m\u001b[1;34m'011'\u001b[0m\u001b[1;33m,\u001b[0m\u001b[1;34m'100'\u001b[0m\u001b[1;33m,\u001b[0m\u001b[1;34m'101'\u001b[0m\u001b[1;33m,\u001b[0m\u001b[1;34m'110'\u001b[0m\u001b[1;33m,\u001b[0m\u001b[1;34m'111'\u001b[0m\u001b[1;33m)\u001b[0m\u001b[1;33m,\u001b[0m\u001b[0mp\u001b[0m\u001b[1;33m)\u001b[0m \u001b[1;31m#da correggiere: ci vanno p^2\u001b[0m\u001b[1;33m\u001b[0m\u001b[1;33m\u001b[0m\u001b[0m\n\u001b[0m\u001b[0;32m      2\u001b[0m \u001b[1;31m# vedere come scrivere nomi ascisse verticali)\u001b[0m\u001b[1;33m\u001b[0m\u001b[1;33m\u001b[0m\u001b[1;33m\u001b[0m\u001b[0m\n",
      "\u001b[1;31mNameError\u001b[0m: name 'p' is not defined"
     ]
    }
   ],
   "source": [
    "plt.bar(('000','001','010','011','100','101','110','111'),p) #da correggiere: ci vanno p^2\n",
    "# vedere come scrivere nomi ascisse verticali)"
   ]
  },
  {
   "cell_type": "markdown",
   "metadata": {},
   "source": [
    "bin(1)[2:] "
   ]
  },
  {
   "cell_type": "code",
   "execution_count": 7,
   "metadata": {},
   "outputs": [
    {
     "data": {
      "text/plain": [
       "'001'"
      ]
     },
     "execution_count": 7,
     "metadata": {},
     "output_type": "execute_result"
    }
   ],
   "source": [
    "bin(1)[2:].zfill(3)"
   ]
  },
  {
   "cell_type": "code",
   "execution_count": null,
   "metadata": {},
   "outputs": [],
   "source": [
    "fi = tensor(basis(2,),basis(2,),basis(2,))\n"
   ]
  }
 ],
 "metadata": {
  "kernelspec": {
   "display_name": "Python 3",
   "language": "python",
   "name": "python3"
  },
  "language_info": {
   "codemirror_mode": {
    "name": "ipython",
    "version": 3
   },
   "file_extension": ".py",
   "mimetype": "text/x-python",
   "name": "python",
   "nbconvert_exporter": "python",
   "pygments_lexer": "ipython3",
   "version": "3.8.3"
  }
 },
 "nbformat": 4,
 "nbformat_minor": 4
}
