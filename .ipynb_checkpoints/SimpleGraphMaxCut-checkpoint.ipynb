{
 "cells": [
  {
   "cell_type": "code",
   "execution_count": 1,
   "metadata": {},
   "outputs": [],
   "source": [
    "from qutip import *\n",
    "import numpy as np\n",
    "import matplotlib.pyplot as plt"
   ]
  },
  {
   "cell_type": "code",
   "execution_count": 3,
   "metadata": {},
   "outputs": [],
   "source": [
    "# define up and down states (Z-eigenvectors)\n",
    "z1 = basis(2,0)\n",
    "z2 = basis(2,1)\n",
    "\n",
    "# define plus and minus states (X-eigenvectors)\n",
    "x1 = (basis(2,0) + basis(2,1)).unit()\n",
    "x2 = (basis(2,0) - basis(2,1)).unit()\n",
    "\n",
    "# rename Pauli matricies\n",
    "X = sigmax()\n",
    "Y = sigmay()\n",
    "Z = sigmaz()  "
   ]
  },
  {
   "cell_type": "markdown",
   "metadata": {},
   "source": [
    "# Apply QAOA for MaxCut problem :\n",
    "#### (for now we apply it to a simple graph (G(V,E), V={0,1,2}, E = {<01>,<12>}), then we try to generalize it)"
   ]
  },
  {
   "cell_type": "markdown",
   "metadata": {},
   "source": [
    "###  1) (here there will be the part where the specific graph is defined)"
   ]
  },
  {
   "cell_type": "code",
   "execution_count": null,
   "metadata": {},
   "outputs": [],
   "source": []
  },
  {
   "cell_type": "markdown",
   "metadata": {},
   "source": [
    "### 2) (here there will be the (classical) part of the program dedicated in finding Fp) "
   ]
  },
  {
   "cell_type": "code",
   "execution_count": null,
   "metadata": {},
   "outputs": [],
   "source": []
  },
  {
   "cell_type": "markdown",
   "metadata": {},
   "source": [
    "### 3) part of the algorithm where is exploited quantum mechanics\n",
    "#### (for now we make specific attempts with the specific case mentioned above, then it will be generalized)"
   ]
  },
  {
   "cell_type": "code",
   "execution_count": 43,
   "metadata": {},
   "outputs": [],
   "source": [
    "# define initial state and operators that define the MaxCut problem\n",
    "\n",
    "s = tensor(x1,x1,x1) # intial state |s>\n",
    "B = tensor(X,qeye(2),qeye(2)) + tensor(qeye(2),X,qeye(2)) + tensor(qeye(2),qeye(2),X) \n",
    "beta = -0.392699\n",
    "Ub = (-0.392699j*B).expm()\n",
    "# capire se si riesce a definire C in modo generico e poi metterci dentro solo l'informazione degli edge\n",
    "C = 0.5*(tensor(qeye(2),qeye(2),qeye(2)) - tensor(Z,Z,qeye(2))) + 0.5*(tensor(qeye(2),qeye(2),qeye(2)) - tensor(qeye(2),Z,Z))\n",
    "gamma = -1.0472\n",
    "Uc = (-1.0472j*C).expm()\n",
    "\n",
    "f = Ub*Uc*s # final state |gamma*,beta*> "
   ]
  },
  {
   "cell_type": "code",
   "execution_count": 44,
   "metadata": {},
   "outputs": [
    {
     "data": {
      "text/latex": [
       "Quantum object: dims = [[2, 2, 2], [1, 1, 1]], shape = (8, 1), type = ket\\begin{equation*}\\left(\\begin{array}{*{11}c}(-0.045+0.086j)\\\\(-0.091-0.264j)\\\\(-0.418-0.399j)\\\\(-0.091-0.264j)\\\\(-0.091-0.264j)\\\\(-0.418-0.399j)\\\\(-0.091-0.264j)\\\\(-0.045+0.086j)\\\\\\end{array}\\right)\\end{equation*}"
      ],
      "text/plain": [
       "Quantum object: dims = [[2, 2, 2], [1, 1, 1]], shape = (8, 1), type = ket\n",
       "Qobj data =\n",
       "[[-0.0451506 +0.08635263j]\n",
       " [-0.09129913-0.26417674j]\n",
       " [-0.41794108-0.39947483j]\n",
       " [-0.09129913-0.26417674j]\n",
       " [-0.09129913-0.26417674j]\n",
       " [-0.41794108-0.39947483j]\n",
       " [-0.09129913-0.26417674j]\n",
       " [-0.0451506 +0.08635263j]]"
      ]
     },
     "execution_count": 44,
     "metadata": {},
     "output_type": "execute_result"
    }
   ],
   "source": [
    "f"
   ]
  },
  {
   "cell_type": "code",
   "execution_count": 45,
   "metadata": {},
   "outputs": [],
   "source": [
    "# define computational basis (trovare modo per non dover farlo uno ad uno (fare una lista?))\n",
    "\n",
    "f1 = tensor(z1,z1,z1)\n",
    "f2 = tensor(z1,z1,z2)\n",
    "f3 = tensor(z1,z2,z1)\n",
    "f4 = tensor(z1,z2,z2)\n",
    "f5 = tensor(z2,z1,z1)\n",
    "f6 = tensor(z2,z1,z2)\n",
    "f7 = tensor(z2,z2,z1)\n",
    "f8 = tensor(z2,z2,z2)"
   ]
  },
  {
   "cell_type": "code",
   "execution_count": 46,
   "metadata": {},
   "outputs": [
    {
     "data": {
      "text/plain": [
       "8"
      ]
     },
     "execution_count": 46,
     "metadata": {},
     "output_type": "execute_result"
    }
   ],
   "source": [
    "# calculate probability of each state (which correspond to state of one of the possible cut) \n",
    "#(fare lista con loop per non definirne uno alla volta)\n",
    "\n",
    "p1 = (f.dag()*f1).norm()\n",
    "p2 = (f.dag()*f2).norm()\n",
    "p3 = (f.dag()*f3).norm()\n",
    "p4 = (f.dag()*f4).norm()\n",
    "p5 = (f.dag()*f5).norm()\n",
    "p6 = (f.dag()*f6).norm()\n",
    "p7 = (f.dag()*f7).norm()\n",
    "p8 = (f.dag()*f8).norm()\n",
    "\n",
    "p = [p1,p2,p3,p4,p5,p6,p7,p8]\n",
    "len(p)"
   ]
  },
  {
   "cell_type": "code",
   "execution_count": 47,
   "metadata": {},
   "outputs": [
    {
     "data": {
      "text/plain": [
       "[0.09744410714882079,\n",
       " 0.279508287486023,\n",
       " 0.5781478015483847,\n",
       " 0.279508287486023,\n",
       " 0.279508287486023,\n",
       " 0.5781478015483846,\n",
       " 0.2795082874860229,\n",
       " 0.09744410714882072]"
      ]
     },
     "execution_count": 47,
     "metadata": {},
     "output_type": "execute_result"
    }
   ],
   "source": [
    "p"
   ]
  },
  {
   "cell_type": "code",
   "execution_count": 48,
   "metadata": {},
   "outputs": [
    {
     "data": {
      "text/plain": [
       "0.9999999999999996"
      ]
     },
     "execution_count": 48,
     "metadata": {},
     "output_type": "execute_result"
    }
   ],
   "source": [
    "sq_sum = 0\n",
    "for i in range(len(p)):\n",
    "    sq_sum += (p[i]*p[i])\n",
    "sq_sum"
   ]
  },
  {
   "cell_type": "code",
   "execution_count": 49,
   "metadata": {},
   "outputs": [
    {
     "data": {
      "text/plain": [
       "<BarContainer object of 8 artists>"
      ]
     },
     "execution_count": 49,
     "metadata": {},
     "output_type": "execute_result"
    },
    {
     "data": {
      "image/png": "[encoded data removed]",
      "text/plain": [
       "<Figure size 432x288 with 1 Axes>"
      ]
     },
     "metadata": {
      "needs_background": "light"
     },
     "output_type": "display_data"
    }
   ],
   "source": [
    "plt.bar(('000','001','010','011','100','101','110','111'),p)\n",
    "# (trovare modo per avere lista di indici senza che debbano essere scritti tutti a mano)"
   ]
  },
  {
   "cell_type": "code",
   "execution_count": null,
   "metadata": {},
   "outputs": [],
   "source": []
  }
 ],
 "metadata": {
  "kernelspec": {
   "display_name": "Python 3",
   "language": "python",
   "name": "python3"
  },
  "language_info": {
   "codemirror_mode": {
    "name": "ipython",
    "version": 3
   },
   "file_extension": ".py",
   "mimetype": "text/x-python",
   "name": "python",
   "nbconvert_exporter": "python",
   "pygments_lexer": "ipython3",
   "version": "3.8.3"
  }
 },
 "nbformat": 4,
 "nbformat_minor": 4
}
